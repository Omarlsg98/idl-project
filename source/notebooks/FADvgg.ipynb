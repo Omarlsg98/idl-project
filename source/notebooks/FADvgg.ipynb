{
  "nbformat": 4,
  "nbformat_minor": 0,
  "metadata": {
    "colab": {
      "provenance": []
    },
    "kernelspec": {
      "name": "python3",
      "display_name": "Python 3"
    },
    "language_info": {
      "name": "python"
    }
  },
  "cells": [
    {
      "cell_type": "code",
      "source": [
        "from google.colab import drive\n",
        "drive.mount('/content/gdrive')"
      ],
      "metadata": {
        "colab": {
          "base_uri": "https://localhost:8080/"
        },
        "id": "xVuBTrtaGg8n",
        "outputId": "9ce2ff3e-4c0b-4a17-ca65-7133ae6accd6"
      },
      "execution_count": 2,
      "outputs": [
        {
          "output_type": "stream",
          "name": "stdout",
          "text": [
            "Mounted at /content/gdrive\n"
          ]
        }
      ]
    },
    {
      "cell_type": "code",
      "execution_count": null,
      "metadata": {
        "id": "3uKKzQzRGaek"
      },
      "outputs": [],
      "source": [
        "!pip install frechet_audio_distance -q"
      ]
    },
    {
      "cell_type": "code",
      "source": [
        "!pip install torchlibrosa -q"
      ],
      "metadata": {
        "id": "FQuYm0FMIh51"
      },
      "execution_count": 8,
      "outputs": []
    },
    {
      "cell_type": "code",
      "source": [
        "!mkdir -p \"eval\"\n",
        "!cp /content/gdrive/MyDrive/IDL_Project/results/generated/*.wav \"eval\"\n",
        "!cp /content/gdrive/MyDrive/IDL_Project/models/generated/*.wav \"eval\""
      ],
      "metadata": {
        "id": "5ScxQTjiG19N"
      },
      "execution_count": 5,
      "outputs": []
    },
    {
      "cell_type": "code",
      "source": [
        "!mkdir -p \"background\"\n",
        "!cp /content/gdrive/MyDrive/IDL_Project/data/releases/*1.flac \"background\""
      ],
      "metadata": {
        "id": "hFRJHiNBHUwU"
      },
      "execution_count": 3,
      "outputs": []
    },
    {
      "cell_type": "code",
      "source": [
        "!du -h /content/background"
      ],
      "metadata": {
        "colab": {
          "base_uri": "https://localhost:8080/"
        },
        "id": "PvlPO5zvPAZr",
        "outputId": "14ad8f49-64e6-437e-a6ca-a38c94df0f4c"
      },
      "execution_count": 4,
      "outputs": [
        {
          "output_type": "stream",
          "name": "stdout",
          "text": [
            "631M\t/content/background\n"
          ]
        }
      ]
    },
    {
      "cell_type": "code",
      "source": [
        "from frechet_audio_distance import FrechetAudioDistance\n",
        "\n",
        "# to use `vggish`\n",
        "frechet_vgg = FrechetAudioDistance(\n",
        "    model_name=\"vggish\",\n",
        "    use_pca=False, \n",
        "    use_activation=False,\n",
        "    verbose=False\n",
        ")\n",
        "\n",
        "fad_score = frechet_vgg.score(\"background\", \"eval\")"
      ],
      "metadata": {
        "colab": {
          "base_uri": "https://localhost:8080/"
        },
        "id": "QBlTmbZ5Gkq9",
        "outputId": "dccbd59d-83c1-42a3-a0c0-449379ed841f"
      },
      "execution_count": 5,
      "outputs": [
        {
          "output_type": "stream",
          "name": "stderr",
          "text": [
            "Using cache found in /root/.cache/torch/hub/harritaylor_torchvggish_master\n"
          ]
        }
      ]
    },
    {
      "cell_type": "code",
      "source": [
        "fad_score"
      ],
      "metadata": {
        "colab": {
          "base_uri": "https://localhost:8080/"
        },
        "id": "dNQKCkzpQaU-",
        "outputId": "7b8ae058-1d4c-4362-e21c-555e98aed20e"
      },
      "execution_count": 6,
      "outputs": [
        {
          "output_type": "execute_result",
          "data": {
            "text/plain": [
              "22.264084832952783"
            ]
          },
          "metadata": {},
          "execution_count": 6
        }
      ]
    },
    {
      "cell_type": "code",
      "source": [
        "# to use `PANN`\n",
        "frechet_pann = FrechetAudioDistance(\n",
        "    model_name=\"pann\",\n",
        "    use_pca=False, \n",
        "    use_activation=False,\n",
        "    verbose=False\n",
        ")\n",
        "fad_score_pann = frechet_pann.score(\"background\", \"eval\")\n",
        "fad_score_pann"
      ],
      "metadata": {
        "id": "PtVWooCjSm-8"
      },
      "execution_count": null,
      "outputs": []
    }
  ]
}